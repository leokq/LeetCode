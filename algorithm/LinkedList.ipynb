{
 "cells": [
  {
   "cell_type": "markdown",
   "metadata": {},
   "source": [
    "### 单链表操作"
   ]
  },
  {
   "cell_type": "markdown",
   "metadata": {},
   "source": [
    "#### 创建节点类"
   ]
  },
  {
   "cell_type": "code",
   "execution_count": 1,
   "metadata": {},
   "outputs": [],
   "source": [
    "class LNode:\n",
    "    def __init__(self,elem,next_ = None):\n",
    "        self.elem = elem\n",
    "        self.next = next_"
   ]
  },
  {
   "cell_type": "markdown",
   "metadata": {},
   "source": [
    "#### 链表类"
   ]
  },
  {
   "cell_type": "code",
   "execution_count": 2,
   "metadata": {},
   "outputs": [],
   "source": [
    "class LList:\n",
    "    def __init__(self):     #初始化表头变量\n",
    "        self._head = None\n",
    "        \n",
    "    def preppend(self,elem):   #给表头赋值\n",
    "        self._head = LNode(elem,self._head)\n",
    "        \n",
    "    def extended(self,num):\n",
    "        p = self._head\n",
    "        for i in range(2,num+1):\n",
    "            p.next = LNode(i)\n",
    "            p = p.next\n",
    "        \n",
    "    def append(self,elem):    #在表尾插入元素\n",
    "        if self._head is None:\n",
    "            self._head = LNode(elem)\n",
    "        p = self._head\n",
    "        while p.next is not None:\n",
    "            p = p.next\n",
    "        p.next = LNode(elem)\n",
    "        \n",
    "    def for_each(self):   #遍历链表并打印\n",
    "        p = self._head\n",
    "        while p is not None:\n",
    "            print(p.elem)\n",
    "            p = p.next\n",
    "    \n",
    "    def getElem(self,index):    #索引\n",
    "        if not index > 0:\n",
    "            raise ValueError('Index should over 0')\n",
    "        p = self._head\n",
    "        while p is not None and index-1>0:\n",
    "            index = index-1\n",
    "            p = p.next\n",
    "        return p.elem\n",
    "    \n",
    "    def insert_indx(self,elem,index):    #按位插入元素\n",
    "        if not index > 0:\n",
    "            raise ValueError('Index should over 0')\n",
    "        p = self._head\n",
    "        while p is not None and index-2>0:\n",
    "            index = index-1\n",
    "            p = p.next\n",
    "        if p is not None:\n",
    "            t = LNode(elem)\n",
    "            t.next = p.next.next\n",
    "            p.next = t\n",
    "        else:\n",
    "            raise ValueError('Index is over the length of LinkedList')"
   ]
  },
  {
   "cell_type": "markdown",
   "metadata": {},
   "source": [
    "#### 实例化链表对象"
   ]
  },
  {
   "cell_type": "code",
   "execution_count": 4,
   "metadata": {},
   "outputs": [],
   "source": [
    "LList1 = LList()"
   ]
  },
  {
   "cell_type": "markdown",
   "metadata": {},
   "source": [
    "#### 给链表表头赋值"
   ]
  },
  {
   "cell_type": "code",
   "execution_count": 5,
   "metadata": {},
   "outputs": [],
   "source": [
    "LList1.preppend(elem=1)"
   ]
  },
  {
   "cell_type": "markdown",
   "metadata": {},
   "source": [
    "#### 创建[1,5]链表"
   ]
  },
  {
   "cell_type": "code",
   "execution_count": 6,
   "metadata": {},
   "outputs": [],
   "source": [
    "LList1.extended(5)"
   ]
  },
  {
   "cell_type": "markdown",
   "metadata": {},
   "source": [
    "#### 在表尾插入值"
   ]
  },
  {
   "cell_type": "code",
   "execution_count": 7,
   "metadata": {},
   "outputs": [],
   "source": [
    "LList1.append(3)"
   ]
  },
  {
   "cell_type": "markdown",
   "metadata": {},
   "source": [
    "#### 打印链表"
   ]
  },
  {
   "cell_type": "code",
   "execution_count": 8,
   "metadata": {},
   "outputs": [
    {
     "name": "stdout",
     "output_type": "stream",
     "text": [
      "1\n",
      "2\n",
      "3\n",
      "4\n",
      "5\n",
      "3\n"
     ]
    }
   ],
   "source": [
    "LList1.for_each()"
   ]
  },
  {
   "cell_type": "markdown",
   "metadata": {},
   "source": [
    "#### 按位插入元素"
   ]
  },
  {
   "cell_type": "code",
   "execution_count": 11,
   "metadata": {},
   "outputs": [],
   "source": [
    "LList1.insert_indx(elem=10,index=4)"
   ]
  },
  {
   "cell_type": "code",
   "execution_count": 12,
   "metadata": {},
   "outputs": [
    {
     "name": "stdout",
     "output_type": "stream",
     "text": [
      "1\n",
      "2\n",
      "3\n",
      "10\n",
      "5\n",
      "3\n"
     ]
    }
   ],
   "source": [
    "LList1.for_each()"
   ]
  },
  {
   "cell_type": "code",
   "execution_count": null,
   "metadata": {},
   "outputs": [],
   "source": []
  }
 ],
 "metadata": {
  "kernelspec": {
   "display_name": "Python 3",
   "language": "python",
   "name": "python3"
  },
  "language_info": {
   "codemirror_mode": {
    "name": "ipython",
    "version": 3
   },
   "file_extension": ".py",
   "mimetype": "text/x-python",
   "name": "python",
   "nbconvert_exporter": "python",
   "pygments_lexer": "ipython3",
   "version": "3.6.5"
  }
 },
 "nbformat": 4,
 "nbformat_minor": 2
}
