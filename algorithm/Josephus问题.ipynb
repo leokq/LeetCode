{
 "cells": [
  {
   "cell_type": "markdown",
   "metadata": {},
   "source": [
    "#### Josephus问题"
   ]
  },
  {
   "cell_type": "code",
   "execution_count": 1,
   "metadata": {},
   "outputs": [],
   "source": [
    "#创建节点类\n",
    "class LNode:\n",
    "    def __init__(self,elem,next_=None):\n",
    "        self.elem = elem\n",
    "        self.next = next_\n",
    "\n",
    "class Josep:\n",
    "    #创建循环单链表\n",
    "    def __init__(self):\n",
    "        self._rear = None\n",
    "    def insertNode(self,NodeList):\n",
    "        for i in NodeList:\n",
    "            p = LNode(i)\n",
    "            if self._rear is None:\n",
    "                p.next = p\n",
    "                self._rear = p\n",
    "            else:\n",
    "                p.next = self._rear.next\n",
    "                self._rear.next = p\n",
    "    def printall(self):\n",
    "        p = self._rear\n",
    "        if self._rear is None:\n",
    "            print(\"This List is None\")\n",
    "            return\n",
    "        while True:\n",
    "            print(p.elem)\n",
    "            if p.next is self._rear:\n",
    "                return\n",
    "            p = p.next\n",
    "    #每m个节点删除一个\n",
    "    def josep(self,m):\n",
    "        p = self._rear\n",
    "        if self._rear is None:\n",
    "            return\n",
    "        while True:\n",
    "            if p is None:\n",
    "                return\n",
    "            for i in range(m-1):\n",
    "                p = p.next\n",
    "            print(p.next.elem)\n",
    "            p.next = p.next.next\n",
    "            if p is p.next:\n",
    "                print(p.elem)\n",
    "                return\n",
    "            "
   ]
  },
  {
   "cell_type": "code",
   "execution_count": 2,
   "metadata": {},
   "outputs": [],
   "source": [
    "l=[2,3,1,5,6,7]\n",
    "llist = Josep()"
   ]
  },
  {
   "cell_type": "code",
   "execution_count": 3,
   "metadata": {},
   "outputs": [],
   "source": [
    "llist.insertNode(l)"
   ]
  },
  {
   "cell_type": "code",
   "execution_count": 4,
   "metadata": {},
   "outputs": [
    {
     "name": "stdout",
     "output_type": "stream",
     "text": [
      "2\n",
      "7\n",
      "6\n",
      "5\n",
      "1\n",
      "3\n"
     ]
    }
   ],
   "source": [
    "llist.printall()"
   ]
  },
  {
   "cell_type": "code",
   "execution_count": 5,
   "metadata": {},
   "outputs": [
    {
     "name": "stdout",
     "output_type": "stream",
     "text": [
      "5\n",
      "2\n",
      "1\n",
      "6\n",
      "3\n",
      "7\n"
     ]
    }
   ],
   "source": [
    "llist.josep(3)"
   ]
  },
  {
   "cell_type": "code",
   "execution_count": null,
   "metadata": {},
   "outputs": [],
   "source": []
  }
 ],
 "metadata": {
  "kernelspec": {
   "display_name": "Python 3",
   "language": "python",
   "name": "python3"
  },
  "language_info": {
   "codemirror_mode": {
    "name": "ipython",
    "version": 3
   },
   "file_extension": ".py",
   "mimetype": "text/x-python",
   "name": "python",
   "nbconvert_exporter": "python",
   "pygments_lexer": "ipython3",
   "version": "3.6.5"
  }
 },
 "nbformat": 4,
 "nbformat_minor": 2
}
